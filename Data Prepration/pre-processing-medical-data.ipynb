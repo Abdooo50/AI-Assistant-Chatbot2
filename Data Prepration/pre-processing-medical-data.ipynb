{
 "cells": [
  {
   "cell_type": "code",
   "execution_count": 3,
   "id": "86fa837d",
   "metadata": {
    "execution": {
     "iopub.execute_input": "2024-12-26T18:31:07.170497Z",
     "iopub.status.busy": "2024-12-26T18:31:07.170133Z",
     "iopub.status.idle": "2024-12-26T18:31:07.562246Z",
     "shell.execute_reply": "2024-12-26T18:31:07.561329Z"
    },
    "papermill": {
     "duration": 0.401292,
     "end_time": "2024-12-26T18:31:07.564098",
     "exception": false,
     "start_time": "2024-12-26T18:31:07.162806",
     "status": "completed"
    },
    "tags": []
   },
   "outputs": [],
   "source": [
    "import numpy as np\n",
    "import pandas as pd\n",
    "import matplotlib.pyplot as plt"
   ]
  },
  {
   "cell_type": "code",
   "execution_count": 4,
   "id": "0d15223c",
   "metadata": {
    "execution": {
     "iopub.execute_input": "2024-12-26T18:31:07.576658Z",
     "iopub.status.busy": "2024-12-26T18:31:07.576166Z",
     "iopub.status.idle": "2024-12-26T18:31:08.174821Z",
     "shell.execute_reply": "2024-12-26T18:31:08.173810Z"
    },
    "papermill": {
     "duration": 0.606749,
     "end_time": "2024-12-26T18:31:08.176607",
     "exception": false,
     "start_time": "2024-12-26T18:31:07.569858",
     "status": "completed"
    },
    "tags": []
   },
   "outputs": [
    {
     "data": {
      "text/html": [
       "<div>\n",
       "<style scoped>\n",
       "    .dataframe tbody tr th:only-of-type {\n",
       "        vertical-align: middle;\n",
       "    }\n",
       "\n",
       "    .dataframe tbody tr th {\n",
       "        vertical-align: top;\n",
       "    }\n",
       "\n",
       "    .dataframe thead th {\n",
       "        text-align: right;\n",
       "    }\n",
       "</style>\n",
       "<table border=\"1\" class=\"dataframe\">\n",
       "  <thead>\n",
       "    <tr style=\"text-align: right;\">\n",
       "      <th></th>\n",
       "      <th>qtype</th>\n",
       "      <th>Question</th>\n",
       "      <th>Answer</th>\n",
       "    </tr>\n",
       "  </thead>\n",
       "  <tbody>\n",
       "    <tr>\n",
       "      <th>0</th>\n",
       "      <td>susceptibility</td>\n",
       "      <td>Who is at risk for Lymphocytic Choriomeningiti...</td>\n",
       "      <td>LCMV infections can occur after exposure to fr...</td>\n",
       "    </tr>\n",
       "    <tr>\n",
       "      <th>1</th>\n",
       "      <td>symptoms</td>\n",
       "      <td>What are the symptoms of Lymphocytic Choriomen...</td>\n",
       "      <td>LCMV is most commonly recognized as causing ne...</td>\n",
       "    </tr>\n",
       "    <tr>\n",
       "      <th>2</th>\n",
       "      <td>susceptibility</td>\n",
       "      <td>Who is at risk for Lymphocytic Choriomeningiti...</td>\n",
       "      <td>Individuals of all ages who come into contact ...</td>\n",
       "    </tr>\n",
       "    <tr>\n",
       "      <th>3</th>\n",
       "      <td>exams and tests</td>\n",
       "      <td>How to diagnose Lymphocytic Choriomeningitis (...</td>\n",
       "      <td>During the first phase of the disease, the mos...</td>\n",
       "    </tr>\n",
       "    <tr>\n",
       "      <th>4</th>\n",
       "      <td>treatment</td>\n",
       "      <td>What are the treatments for Lymphocytic Chorio...</td>\n",
       "      <td>Aseptic meningitis, encephalitis, or meningoen...</td>\n",
       "    </tr>\n",
       "  </tbody>\n",
       "</table>\n",
       "</div>"
      ],
      "text/plain": [
       "             qtype                                           Question  \\\n",
       "0   susceptibility  Who is at risk for Lymphocytic Choriomeningiti...   \n",
       "1         symptoms  What are the symptoms of Lymphocytic Choriomen...   \n",
       "2   susceptibility  Who is at risk for Lymphocytic Choriomeningiti...   \n",
       "3  exams and tests  How to diagnose Lymphocytic Choriomeningitis (...   \n",
       "4        treatment  What are the treatments for Lymphocytic Chorio...   \n",
       "\n",
       "                                              Answer  \n",
       "0  LCMV infections can occur after exposure to fr...  \n",
       "1  LCMV is most commonly recognized as causing ne...  \n",
       "2  Individuals of all ages who come into contact ...  \n",
       "3  During the first phase of the disease, the mos...  \n",
       "4  Aseptic meningitis, encephalitis, or meningoen...  "
      ]
     },
     "execution_count": 4,
     "metadata": {},
     "output_type": "execute_result"
    }
   ],
   "source": [
    "data1 = pd.read_csv(\"train.csv\")\n",
    "data1.head()"
   ]
  },
  {
   "cell_type": "code",
   "execution_count": 5,
   "id": "986a3f15",
   "metadata": {
    "execution": {
     "iopub.execute_input": "2024-12-26T18:31:08.188700Z",
     "iopub.status.busy": "2024-12-26T18:31:08.188349Z",
     "iopub.status.idle": "2024-12-26T18:31:08.306007Z",
     "shell.execute_reply": "2024-12-26T18:31:08.304890Z"
    },
    "papermill": {
     "duration": 0.12546,
     "end_time": "2024-12-26T18:31:08.307700",
     "exception": false,
     "start_time": "2024-12-26T18:31:08.182240",
     "status": "completed"
    },
    "tags": []
   },
   "outputs": [
    {
     "data": {
      "text/html": [
       "<div>\n",
       "<style scoped>\n",
       "    .dataframe tbody tr th:only-of-type {\n",
       "        vertical-align: middle;\n",
       "    }\n",
       "\n",
       "    .dataframe tbody tr th {\n",
       "        vertical-align: top;\n",
       "    }\n",
       "\n",
       "    .dataframe thead th {\n",
       "        text-align: right;\n",
       "    }\n",
       "</style>\n",
       "<table border=\"1\" class=\"dataframe\">\n",
       "  <thead>\n",
       "    <tr style=\"text-align: right;\">\n",
       "      <th></th>\n",
       "      <th>q_type</th>\n",
       "      <th>question</th>\n",
       "      <th>answer</th>\n",
       "    </tr>\n",
       "  </thead>\n",
       "  <tbody>\n",
       "    <tr>\n",
       "      <th>0</th>\n",
       "      <td>treatment</td>\n",
       "      <td>What is Semaglutide approved for?</td>\n",
       "      <td>Semaglutide is approved for type 2 diabetes, w...</td>\n",
       "    </tr>\n",
       "    <tr>\n",
       "      <th>1</th>\n",
       "      <td>general_info</td>\n",
       "      <td>What is a potential risk associated with some ...</td>\n",
       "      <td>Some recalled antidepressants may contain a ca...</td>\n",
       "    </tr>\n",
       "    <tr>\n",
       "      <th>2</th>\n",
       "      <td>general_info</td>\n",
       "      <td>What could be a negative effect of blowing you...</td>\n",
       "      <td>Blowing your nose might worsen a cold.</td>\n",
       "    </tr>\n",
       "    <tr>\n",
       "      <th>3</th>\n",
       "      <td>general_info</td>\n",
       "      <td>What is the benefit of short periods of daily ...</td>\n",
       "      <td>Even a few minutes of daily exercise can boost...</td>\n",
       "    </tr>\n",
       "    <tr>\n",
       "      <th>4</th>\n",
       "      <td>general_info</td>\n",
       "      <td>What is 'Sunset Anxiety'?</td>\n",
       "      <td>'Sunset Anxiety' is a feeling of uneasiness as...</td>\n",
       "    </tr>\n",
       "  </tbody>\n",
       "</table>\n",
       "</div>"
      ],
      "text/plain": [
       "         q_type                                           question  \\\n",
       "0     treatment                  What is Semaglutide approved for?   \n",
       "1  general_info  What is a potential risk associated with some ...   \n",
       "2  general_info  What could be a negative effect of blowing you...   \n",
       "3  general_info  What is the benefit of short periods of daily ...   \n",
       "4  general_info                          What is 'Sunset Anxiety'?   \n",
       "\n",
       "                                              answer  \n",
       "0  Semaglutide is approved for type 2 diabetes, w...  \n",
       "1  Some recalled antidepressants may contain a ca...  \n",
       "2             Blowing your nose might worsen a cold.  \n",
       "3  Even a few minutes of daily exercise can boost...  \n",
       "4  'Sunset Anxiety' is a feeling of uneasiness as...  "
      ]
     },
     "execution_count": 5,
     "metadata": {},
     "output_type": "execute_result"
    }
   ],
   "source": [
    "data2 = pd.read_csv(\"medical_advices.csv\")\n",
    "data2.head()"
   ]
  },
  {
   "cell_type": "code",
   "execution_count": 6,
   "id": "b094f3b5",
   "metadata": {
    "execution": {
     "iopub.execute_input": "2024-12-26T18:31:08.320362Z",
     "iopub.status.busy": "2024-12-26T18:31:08.319945Z",
     "iopub.status.idle": "2024-12-26T18:31:08.333631Z",
     "shell.execute_reply": "2024-12-26T18:31:08.332713Z"
    },
    "papermill": {
     "duration": 0.021721,
     "end_time": "2024-12-26T18:31:08.335169",
     "exception": false,
     "start_time": "2024-12-26T18:31:08.313448",
     "status": "completed"
    },
    "tags": []
   },
   "outputs": [
    {
     "data": {
      "text/html": [
       "<div>\n",
       "<style scoped>\n",
       "    .dataframe tbody tr th:only-of-type {\n",
       "        vertical-align: middle;\n",
       "    }\n",
       "\n",
       "    .dataframe tbody tr th {\n",
       "        vertical-align: top;\n",
       "    }\n",
       "\n",
       "    .dataframe thead th {\n",
       "        text-align: right;\n",
       "    }\n",
       "</style>\n",
       "<table border=\"1\" class=\"dataframe\">\n",
       "  <thead>\n",
       "    <tr style=\"text-align: right;\">\n",
       "      <th></th>\n",
       "      <th>q_type</th>\n",
       "      <th>question</th>\n",
       "      <th>answer</th>\n",
       "    </tr>\n",
       "  </thead>\n",
       "  <tbody>\n",
       "    <tr>\n",
       "      <th>0</th>\n",
       "      <td>susceptibility</td>\n",
       "      <td>Who is at risk for Lymphocytic Choriomeningiti...</td>\n",
       "      <td>LCMV infections can occur after exposure to fr...</td>\n",
       "    </tr>\n",
       "    <tr>\n",
       "      <th>1</th>\n",
       "      <td>symptoms</td>\n",
       "      <td>What are the symptoms of Lymphocytic Choriomen...</td>\n",
       "      <td>LCMV is most commonly recognized as causing ne...</td>\n",
       "    </tr>\n",
       "    <tr>\n",
       "      <th>2</th>\n",
       "      <td>susceptibility</td>\n",
       "      <td>Who is at risk for Lymphocytic Choriomeningiti...</td>\n",
       "      <td>Individuals of all ages who come into contact ...</td>\n",
       "    </tr>\n",
       "    <tr>\n",
       "      <th>3</th>\n",
       "      <td>exams and tests</td>\n",
       "      <td>How to diagnose Lymphocytic Choriomeningitis (...</td>\n",
       "      <td>During the first phase of the disease, the mos...</td>\n",
       "    </tr>\n",
       "    <tr>\n",
       "      <th>4</th>\n",
       "      <td>treatment</td>\n",
       "      <td>What are the treatments for Lymphocytic Chorio...</td>\n",
       "      <td>Aseptic meningitis, encephalitis, or meningoen...</td>\n",
       "    </tr>\n",
       "  </tbody>\n",
       "</table>\n",
       "</div>"
      ],
      "text/plain": [
       "            q_type                                           question  \\\n",
       "0   susceptibility  Who is at risk for Lymphocytic Choriomeningiti...   \n",
       "1         symptoms  What are the symptoms of Lymphocytic Choriomen...   \n",
       "2   susceptibility  Who is at risk for Lymphocytic Choriomeningiti...   \n",
       "3  exams and tests  How to diagnose Lymphocytic Choriomeningitis (...   \n",
       "4        treatment  What are the treatments for Lymphocytic Chorio...   \n",
       "\n",
       "                                              answer  \n",
       "0  LCMV infections can occur after exposure to fr...  \n",
       "1  LCMV is most commonly recognized as causing ne...  \n",
       "2  Individuals of all ages who come into contact ...  \n",
       "3  During the first phase of the disease, the mos...  \n",
       "4  Aseptic meningitis, encephalitis, or meningoen...  "
      ]
     },
     "execution_count": 6,
     "metadata": {},
     "output_type": "execute_result"
    }
   ],
   "source": [
    "# Rename columns in the second dataset to match the first dataset\n",
    "data1 = data1.rename(columns={\"qtype\": \"q_type\", \"Question\": \"question\", \"Answer\": \"answer\"})\n",
    "\n",
    "# Combine the datasets\n",
    "merged_df = pd.concat([data1, data2], ignore_index=True)\n",
    "\n",
    "merged_df.head()"
   ]
  },
  {
   "cell_type": "code",
   "execution_count": 7,
   "id": "823c6237",
   "metadata": {
    "execution": {
     "iopub.execute_input": "2024-12-26T18:31:08.348022Z",
     "iopub.status.busy": "2024-12-26T18:31:08.347685Z",
     "iopub.status.idle": "2024-12-26T18:31:08.360710Z",
     "shell.execute_reply": "2024-12-26T18:31:08.359852Z"
    },
    "papermill": {
     "duration": 0.021242,
     "end_time": "2024-12-26T18:31:08.362406",
     "exception": false,
     "start_time": "2024-12-26T18:31:08.341164",
     "status": "completed"
    },
    "tags": []
   },
   "outputs": [],
   "source": [
    "data = merged_df.copy()"
   ]
  },
  {
   "cell_type": "code",
   "execution_count": 8,
   "id": "146538c6",
   "metadata": {
    "execution": {
     "iopub.execute_input": "2024-12-26T18:31:09.176072Z",
     "iopub.status.busy": "2024-12-26T18:31:09.175752Z",
     "iopub.status.idle": "2024-12-26T18:31:09.185478Z",
     "shell.execute_reply": "2024-12-26T18:31:09.184384Z"
    },
    "papermill": {
     "duration": 0.020892,
     "end_time": "2024-12-26T18:31:09.187262",
     "exception": false,
     "start_time": "2024-12-26T18:31:09.166370",
     "status": "completed"
    },
    "tags": []
   },
   "outputs": [],
   "source": [
    "data = data.drop_duplicates(subset=[\"question\"])"
   ]
  },
  {
   "cell_type": "code",
   "execution_count": 9,
   "id": "24ff35b0",
   "metadata": {
    "execution": {
     "iopub.execute_input": "2024-12-26T18:31:10.215493Z",
     "iopub.status.busy": "2024-12-26T18:31:10.215125Z",
     "iopub.status.idle": "2024-12-26T18:31:10.218801Z",
     "shell.execute_reply": "2024-12-26T18:31:10.217883Z"
    },
    "papermill": {
     "duration": 0.017,
     "end_time": "2024-12-26T18:31:10.220244",
     "exception": false,
     "start_time": "2024-12-26T18:31:10.203244",
     "status": "completed"
    },
    "tags": []
   },
   "outputs": [],
   "source": [
    "data.to_csv(\"data_preprocessed.csv\")"
   ]
  },
  {
   "cell_type": "code",
   "execution_count": 10,
   "id": "9bb30306",
   "metadata": {
    "execution": {
     "iopub.execute_input": "2024-12-26T18:31:10.244025Z",
     "iopub.status.busy": "2024-12-26T18:31:10.243696Z",
     "iopub.status.idle": "2024-12-26T18:31:10.253587Z",
     "shell.execute_reply": "2024-12-26T18:31:10.252699Z"
    },
    "papermill": {
     "duration": 0.023477,
     "end_time": "2024-12-26T18:31:10.254996",
     "exception": false,
     "start_time": "2024-12-26T18:31:10.231519",
     "status": "completed"
    },
    "tags": []
   },
   "outputs": [
    {
     "data": {
      "text/html": [
       "<div>\n",
       "<style scoped>\n",
       "    .dataframe tbody tr th:only-of-type {\n",
       "        vertical-align: middle;\n",
       "    }\n",
       "\n",
       "    .dataframe tbody tr th {\n",
       "        vertical-align: top;\n",
       "    }\n",
       "\n",
       "    .dataframe thead th {\n",
       "        text-align: right;\n",
       "    }\n",
       "</style>\n",
       "<table border=\"1\" class=\"dataframe\">\n",
       "  <thead>\n",
       "    <tr style=\"text-align: right;\">\n",
       "      <th></th>\n",
       "      <th>q_type</th>\n",
       "      <th>question</th>\n",
       "      <th>answer</th>\n",
       "    </tr>\n",
       "  </thead>\n",
       "  <tbody>\n",
       "    <tr>\n",
       "      <th>0</th>\n",
       "      <td>susceptibility</td>\n",
       "      <td>Who is at risk for Lymphocytic Choriomeningiti...</td>\n",
       "      <td>LCMV infections can occur after exposure to fr...</td>\n",
       "    </tr>\n",
       "    <tr>\n",
       "      <th>1</th>\n",
       "      <td>symptoms</td>\n",
       "      <td>What are the symptoms of Lymphocytic Choriomen...</td>\n",
       "      <td>LCMV is most commonly recognized as causing ne...</td>\n",
       "    </tr>\n",
       "    <tr>\n",
       "      <th>3</th>\n",
       "      <td>exams and tests</td>\n",
       "      <td>How to diagnose Lymphocytic Choriomeningitis (...</td>\n",
       "      <td>During the first phase of the disease, the mos...</td>\n",
       "    </tr>\n",
       "    <tr>\n",
       "      <th>4</th>\n",
       "      <td>treatment</td>\n",
       "      <td>What are the treatments for Lymphocytic Chorio...</td>\n",
       "      <td>Aseptic meningitis, encephalitis, or meningoen...</td>\n",
       "    </tr>\n",
       "    <tr>\n",
       "      <th>5</th>\n",
       "      <td>prevention</td>\n",
       "      <td>How to prevent Lymphocytic Choriomeningitis (L...</td>\n",
       "      <td>LCMV infection can be prevented by avoiding co...</td>\n",
       "    </tr>\n",
       "    <tr>\n",
       "      <th>...</th>\n",
       "      <td>...</td>\n",
       "      <td>...</td>\n",
       "      <td>...</td>\n",
       "    </tr>\n",
       "    <tr>\n",
       "      <th>29227</th>\n",
       "      <td>general_info</td>\n",
       "      <td>What is the cause of obesity?</td>\n",
       "      <td>Obesity is caused, in part, by an energy imbal...</td>\n",
       "    </tr>\n",
       "    <tr>\n",
       "      <th>29228</th>\n",
       "      <td>general_info</td>\n",
       "      <td>What is the difference between a disease and a...</td>\n",
       "      <td>A disease is a specific pathological process t...</td>\n",
       "    </tr>\n",
       "    <tr>\n",
       "      <th>29229</th>\n",
       "      <td>general_info</td>\n",
       "      <td>What is the difference between a cause and a r...</td>\n",
       "      <td>A cause is an underlying factor that directly ...</td>\n",
       "    </tr>\n",
       "    <tr>\n",
       "      <th>29230</th>\n",
       "      <td>treatment</td>\n",
       "      <td>What are the treatments for obesity?</td>\n",
       "      <td>Treatments for obesity include lifestyle chang...</td>\n",
       "    </tr>\n",
       "    <tr>\n",
       "      <th>29232</th>\n",
       "      <td>general_info</td>\n",
       "      <td>What other measures should be considered along...</td>\n",
       "      <td>Healthcare providers should consider waist cir...</td>\n",
       "    </tr>\n",
       "  </tbody>\n",
       "</table>\n",
       "<p>26466 rows × 3 columns</p>\n",
       "</div>"
      ],
      "text/plain": [
       "                q_type                                           question  \\\n",
       "0       susceptibility  Who is at risk for Lymphocytic Choriomeningiti...   \n",
       "1             symptoms  What are the symptoms of Lymphocytic Choriomen...   \n",
       "3      exams and tests  How to diagnose Lymphocytic Choriomeningitis (...   \n",
       "4            treatment  What are the treatments for Lymphocytic Chorio...   \n",
       "5           prevention  How to prevent Lymphocytic Choriomeningitis (L...   \n",
       "...                ...                                                ...   \n",
       "29227     general_info                      What is the cause of obesity?   \n",
       "29228     general_info  What is the difference between a disease and a...   \n",
       "29229     general_info  What is the difference between a cause and a r...   \n",
       "29230        treatment               What are the treatments for obesity?   \n",
       "29232     general_info  What other measures should be considered along...   \n",
       "\n",
       "                                                  answer  \n",
       "0      LCMV infections can occur after exposure to fr...  \n",
       "1      LCMV is most commonly recognized as causing ne...  \n",
       "3      During the first phase of the disease, the mos...  \n",
       "4      Aseptic meningitis, encephalitis, or meningoen...  \n",
       "5      LCMV infection can be prevented by avoiding co...  \n",
       "...                                                  ...  \n",
       "29227  Obesity is caused, in part, by an energy imbal...  \n",
       "29228  A disease is a specific pathological process t...  \n",
       "29229  A cause is an underlying factor that directly ...  \n",
       "29230  Treatments for obesity include lifestyle chang...  \n",
       "29232  Healthcare providers should consider waist cir...  \n",
       "\n",
       "[26466 rows x 3 columns]"
      ]
     },
     "execution_count": 10,
     "metadata": {},
     "output_type": "execute_result"
    }
   ],
   "source": [
    "data"
   ]
  },
  {
   "cell_type": "code",
   "execution_count": 11,
   "id": "29c035c3",
   "metadata": {
    "papermill": {
     "duration": 0.011087,
     "end_time": "2024-12-26T18:31:10.277438",
     "exception": false,
     "start_time": "2024-12-26T18:31:10.266351",
     "status": "completed"
    },
    "tags": []
   },
   "outputs": [],
   "source": [
    "# Get the length of the 'answer' column\n",
    "answer_length = data['answer'].str.len()\n",
    "\n",
    "# If you want to add this as a new column in your DataFrame\n",
    "data['answer_length'] = answer_length"
   ]
  },
  {
   "cell_type": "code",
   "execution_count": 12,
   "id": "367d6bdf",
   "metadata": {},
   "outputs": [
    {
     "data": {
      "text/html": [
       "<div>\n",
       "<style scoped>\n",
       "    .dataframe tbody tr th:only-of-type {\n",
       "        vertical-align: middle;\n",
       "    }\n",
       "\n",
       "    .dataframe tbody tr th {\n",
       "        vertical-align: top;\n",
       "    }\n",
       "\n",
       "    .dataframe thead th {\n",
       "        text-align: right;\n",
       "    }\n",
       "</style>\n",
       "<table border=\"1\" class=\"dataframe\">\n",
       "  <thead>\n",
       "    <tr style=\"text-align: right;\">\n",
       "      <th></th>\n",
       "      <th>q_type</th>\n",
       "      <th>question</th>\n",
       "      <th>answer</th>\n",
       "      <th>answer_length</th>\n",
       "    </tr>\n",
       "  </thead>\n",
       "  <tbody>\n",
       "    <tr>\n",
       "      <th>0</th>\n",
       "      <td>susceptibility</td>\n",
       "      <td>Who is at risk for Lymphocytic Choriomeningiti...</td>\n",
       "      <td>LCMV infections can occur after exposure to fr...</td>\n",
       "      <td>467</td>\n",
       "    </tr>\n",
       "    <tr>\n",
       "      <th>1</th>\n",
       "      <td>symptoms</td>\n",
       "      <td>What are the symptoms of Lymphocytic Choriomen...</td>\n",
       "      <td>LCMV is most commonly recognized as causing ne...</td>\n",
       "      <td>2568</td>\n",
       "    </tr>\n",
       "    <tr>\n",
       "      <th>3</th>\n",
       "      <td>exams and tests</td>\n",
       "      <td>How to diagnose Lymphocytic Choriomeningitis (...</td>\n",
       "      <td>During the first phase of the disease, the mos...</td>\n",
       "      <td>655</td>\n",
       "    </tr>\n",
       "    <tr>\n",
       "      <th>4</th>\n",
       "      <td>treatment</td>\n",
       "      <td>What are the treatments for Lymphocytic Chorio...</td>\n",
       "      <td>Aseptic meningitis, encephalitis, or meningoen...</td>\n",
       "      <td>446</td>\n",
       "    </tr>\n",
       "    <tr>\n",
       "      <th>5</th>\n",
       "      <td>prevention</td>\n",
       "      <td>How to prevent Lymphocytic Choriomeningitis (L...</td>\n",
       "      <td>LCMV infection can be prevented by avoiding co...</td>\n",
       "      <td>2669</td>\n",
       "    </tr>\n",
       "    <tr>\n",
       "      <th>...</th>\n",
       "      <td>...</td>\n",
       "      <td>...</td>\n",
       "      <td>...</td>\n",
       "      <td>...</td>\n",
       "    </tr>\n",
       "    <tr>\n",
       "      <th>29227</th>\n",
       "      <td>general_info</td>\n",
       "      <td>What is the cause of obesity?</td>\n",
       "      <td>Obesity is caused, in part, by an energy imbal...</td>\n",
       "      <td>241</td>\n",
       "    </tr>\n",
       "    <tr>\n",
       "      <th>29228</th>\n",
       "      <td>general_info</td>\n",
       "      <td>What is the difference between a disease and a...</td>\n",
       "      <td>A disease is a specific pathological process t...</td>\n",
       "      <td>162</td>\n",
       "    </tr>\n",
       "    <tr>\n",
       "      <th>29229</th>\n",
       "      <td>general_info</td>\n",
       "      <td>What is the difference between a cause and a r...</td>\n",
       "      <td>A cause is an underlying factor that directly ...</td>\n",
       "      <td>164</td>\n",
       "    </tr>\n",
       "    <tr>\n",
       "      <th>29230</th>\n",
       "      <td>treatment</td>\n",
       "      <td>What are the treatments for obesity?</td>\n",
       "      <td>Treatments for obesity include lifestyle chang...</td>\n",
       "      <td>61</td>\n",
       "    </tr>\n",
       "    <tr>\n",
       "      <th>29232</th>\n",
       "      <td>general_info</td>\n",
       "      <td>What other measures should be considered along...</td>\n",
       "      <td>Healthcare providers should consider waist cir...</td>\n",
       "      <td>120</td>\n",
       "    </tr>\n",
       "  </tbody>\n",
       "</table>\n",
       "<p>26466 rows × 4 columns</p>\n",
       "</div>"
      ],
      "text/plain": [
       "                q_type                                           question  \\\n",
       "0       susceptibility  Who is at risk for Lymphocytic Choriomeningiti...   \n",
       "1             symptoms  What are the symptoms of Lymphocytic Choriomen...   \n",
       "3      exams and tests  How to diagnose Lymphocytic Choriomeningitis (...   \n",
       "4            treatment  What are the treatments for Lymphocytic Chorio...   \n",
       "5           prevention  How to prevent Lymphocytic Choriomeningitis (L...   \n",
       "...                ...                                                ...   \n",
       "29227     general_info                      What is the cause of obesity?   \n",
       "29228     general_info  What is the difference between a disease and a...   \n",
       "29229     general_info  What is the difference between a cause and a r...   \n",
       "29230        treatment               What are the treatments for obesity?   \n",
       "29232     general_info  What other measures should be considered along...   \n",
       "\n",
       "                                                  answer  answer_length  \n",
       "0      LCMV infections can occur after exposure to fr...            467  \n",
       "1      LCMV is most commonly recognized as causing ne...           2568  \n",
       "3      During the first phase of the disease, the mos...            655  \n",
       "4      Aseptic meningitis, encephalitis, or meningoen...            446  \n",
       "5      LCMV infection can be prevented by avoiding co...           2669  \n",
       "...                                                  ...            ...  \n",
       "29227  Obesity is caused, in part, by an energy imbal...            241  \n",
       "29228  A disease is a specific pathological process t...            162  \n",
       "29229  A cause is an underlying factor that directly ...            164  \n",
       "29230  Treatments for obesity include lifestyle chang...             61  \n",
       "29232  Healthcare providers should consider waist cir...            120  \n",
       "\n",
       "[26466 rows x 4 columns]"
      ]
     },
     "execution_count": 12,
     "metadata": {},
     "output_type": "execute_result"
    }
   ],
   "source": [
    "data"
   ]
  },
  {
   "cell_type": "code",
   "execution_count": 13,
   "id": "d40e8287",
   "metadata": {},
   "outputs": [],
   "source": [
    "# Sort the DataFrame by the 'answer_length' column\n",
    "# Use `ascending=True` for ascending order or `ascending=False` for descending order\n",
    "sorted_data = data.sort_values(by='answer_length', ascending=True)"
   ]
  },
  {
   "cell_type": "code",
   "execution_count": 14,
   "id": "2d91c7db",
   "metadata": {},
   "outputs": [
    {
     "data": {
      "text/plain": [
       "q_type                                                general_info\n",
       "question         Should I consult a doctor before changing my d...\n",
       "answer           Make sure to work with your healthcare provide...\n",
       "answer_length                                                  137\n",
       "Name: 25747, dtype: object"
      ]
     },
     "execution_count": 14,
     "metadata": {},
     "output_type": "execute_result"
    }
   ],
   "source": [
    "sorted_data.head(7000).iloc[-1]"
   ]
  },
  {
   "cell_type": "code",
   "execution_count": 15,
   "id": "1f4935ba",
   "metadata": {},
   "outputs": [
    {
     "data": {
      "text/plain": [
       "count    26466.000000\n",
       "mean       796.239061\n",
       "std       1372.099133\n",
       "min          6.000000\n",
       "25%        133.000000\n",
       "50%        303.000000\n",
       "75%       1020.000000\n",
       "max      28001.000000\n",
       "Name: answer_length, dtype: float64"
      ]
     },
     "execution_count": 15,
     "metadata": {},
     "output_type": "execute_result"
    }
   ],
   "source": [
    "sorted_data['answer_length'].describe()"
   ]
  },
  {
   "cell_type": "code",
   "execution_count": 16,
   "id": "4c70a79f",
   "metadata": {},
   "outputs": [
    {
     "data": {
      "text/plain": [
       "2736    17890\n",
       "2909    18527\n",
       "2681    19226\n",
       "2673    19426\n",
       "3277    20007\n",
       "2978    21233\n",
       "3068    21313\n",
       "2926    21448\n",
       "3271    21492\n",
       "2965    21518\n",
       "4428    21539\n",
       "4097    22496\n",
       "3044    23021\n",
       "3235    23116\n",
       "3196    23133\n",
       "2870    23616\n",
       "2631    23727\n",
       "4441    25077\n",
       "3037    27642\n",
       "2827    28001\n",
       "Name: answer_length, dtype: int64"
      ]
     },
     "execution_count": 16,
     "metadata": {},
     "output_type": "execute_result"
    }
   ],
   "source": [
    "sorted_data['answer_length'].tail(20)"
   ]
  },
  {
   "cell_type": "code",
   "execution_count": 17,
   "id": "7942a87a",
   "metadata": {},
   "outputs": [
    {
     "data": {
      "text/plain": [
       "'Key Points\\r\\n                    - Childhood vascular tumors form from cells that make blood vessels or lymph vessels.    - Tests are used to detect (find) and diagnose childhood vascular tumors.    - Childhood vascular tumors may be classified into four groups.         - Benign tumors     - Intermediate (locally aggressive) tumors     - Intermediate (rarely metastasizing) tumors     - Malignant tumors\\r\\n                \\r\\n                \\r\\n                    Childhood vascular tumors form from cells that make blood vessels or lymph vessels.\\r\\n                    Vascular tumors can form from abnormal blood vessel or lymph vessel cells anywhere in the body. They may be benign (not cancer) or malignant (cancer). There are many types of vascular tumors. The most common type of childhood vascular tumor is hemangioma, which is a benign tumor that usually goes away on its own.   Because malignant vascular tumors are rare in children, there is not a lot of information about what treatment works best.\\r\\n                               \\r\\n                \\r\\n                    Childhood vascular tumors may be classified into four groups.\\r\\n                    \\r\\n\\t\\t\\t\\t\\t\\t\\t\\t\\t\\t\\t                    \\r\\n\\t\\t\\t\\t\\t\\t\\t\\t\\t\\t\\t                    Benign tumors    Benign tumors are not cancer. This summary has information about the following benign vascular tumors:            -  Infantile hemangioma.     -  Congenital hemangioma.     - Benign vascular tumors of the liver.     -  Spindle cell hemangioma.     -  Epithelioid hemangioma.     -  Pyogenic granuloma (lobular capillary hemangioma).     -  Angiofibroma.     -  Juvenile nasopharyngeal angiofibroma.              Intermediate (locally aggressive) tumors    Intermediate tumors that are locally aggressive often spread to the area around the tumor. This summary has information about the following locally aggressive vascular tumors:            -  Kaposiform hemangioendothelioma and tufted angioma.              Intermediate (rarely metastasizing) tumors    Intermediate (rarely metastasizing) tumors sometimes spread to other parts of the body. This summary has information about the following vascular tumors that rarely metastasize:            -  Retiform hemangioendothelioma.     -  Papillary intralymphatic angioendothelioma.     -  Composite hemangioendothelioma.     -  Kaposi sarcoma.              Malignant tumors    Malignant tumors are cancer. This summary has information about the following malignant vascular tumors:            -  Epithelioid hemangioendothelioma.     -  Angiosarcoma of soft tissue.\\r\\n\\t\\t\\t\\t\\t\\t\\t\\t\\t\\t\\t                    \\r\\n\\t\\t\\t\\t\\t\\t\\t\\t\\t\\t\\t                             \\r\\n\\t\\t\\t\\t\\t\\t\\t\\t\\t\\t\\t                    \\r\\n\\t\\t\\t\\t\\t\\t\\t\\t\\t\\t\\t                    \\r\\n\\t\\t\\t\\t\\t\\t\\t\\t\\t\\t\\t\\t\\t\\t\\t\\t\\t\\t\\t            Benign Tumors\\r\\n\\t\\t\\t\\t\\t\\t\\t\\t\\t\\t\\t\\t\\t\\t\\t\\t\\t\\t\\t            \\r\\n\\t\\t\\t\\t\\t\\t\\t\\t\\t\\t\\t\\t\\t\\t\\t\\t\\t\\t\\t                \\r\\n\\t\\t\\t\\t\\t\\t\\t\\t\\t\\t\\t\\t\\t\\t\\t\\t\\t\\t\\t                    Infantile Hemangioma\\r\\n\\t\\t\\t\\t\\t\\t\\t\\t\\t\\t\\t\\t\\t\\t\\t\\t\\t\\t\\t                    Infantile hemangiomas are the most common type of benign vascular tumor in children. An infantile hemangioma may also be called a \"strawberry mark.\" Immature cells that are meant to form blood vessels form a tumor instead. These tumors are not usually seen at birth but appear when the infant is 3 to 6 weeks old. Most hemangiomas get bigger for about 5 months, then stop growing and slowly fade away completely during the next several years. It is rare for them to come back.   Hemangiomas may be on the skin, in the tissue below the skin, and/or in an organ. They are usually on the head and neck but can be anywhere on or in the body. Hemangiomas may appear as a single lesion, one or more lesions spread over a larger area of the body, or multiple lesions in more than one part of the body. Lesions that are spread over a larger area of the body or multiple lesions are more likely to cause problems.    Risk Factors    Anything that increases your risk of getting a disease is called a risk factor. Having a risk factor does not mean that you will get the disease; not having risk factors doesnt mean that you will not get the disease. Talk with your child\\'s doctor if you think your child may be at risk.   Infantile hemangiomas are more common in the following:          - Girls.    - Whites.    - Premature babies.    -  Twins, triplets, or other multiple births.     - Babies of mothers who are older at time of the pregnancy or who have problems with the placenta during pregnancy.        Other risk factors for infantile hemangiomas include the following:         - Having certain syndromes.               -  PHACE syndrome: A syndrome in which the hemangioma spreads across a large area of the body (usually the head or face). Other health problems involving the large blood vessels, heart, eyes, and/or brain may also occur.       -  LUMBAR/PELVIS/SACRAL syndrome: A syndrome in which the hemangioma spreads across a large area of the lower back. Other health problems that affect the urinary system, genitals, rectum, anus, brain, spinal cord, and nerve function may also occur.                 Having more than one hemangioma or an airway hemangioma increases the risk of having other health problems.         - Multiple hemangiomas: Having more than five hemangiomas on the skin is a sign that there may be hemangiomas in an organ, most commonly the liver. Heart, muscle, and thyroid gland problems can also occur.     - Airway hemangiomas: Hemangiomas in the airway usually occur along with a large, beard-shaped area of hemangioma on the face (from the ears, around the mouth, lower chin, and front of neck). It is important for airway hemangiomas to be treated before the child has trouble breathing.         Signs and Symptoms    Infantile hemangiomas may cause any of the following signs and symptoms. Check with your childs doctor if your child has any of the following:         - Skin lesions: An area of spidery veins or lightened or discolored skin may appear before the hemangioma does. Hemangiomas occur as firm, warm, bright red-blue lesions on the skin. Lesions that form ulcers are also painful. Later, as the hemangiomas go away, they begin fading in the center before flattening and losing color.    - Lesions below the skin: Lesions that grow under the skin in the fat may appear blue or purple. If the lesions are deep enough under the skin surface, they may not be seen.    - Lesions in an organ: There may be no signs that hemangiomas have formed on an organ.        Although most infantile hemangiomas are nothing to worry about, if your child develops any lumps or red or blue marks on the skin check with your child\\'s doctor. He or she can recommend a specialist if needed.     Diagnostic Tests    A physical exam and history are usually all that are needed to diagnose infantile hemangiomas. If there is something about the tumor that looks unusual, a biopsy may be done. If the hemangioma is deeper inside the body with no change to the skin, or the lesions are spread across a large area of the body, an ultrasound or MRI may be done. See the General Information section for a description of these tests and procedures.    If the hemangiomas are part of a syndrome, more tests may be done such as an echocardiogram, magnetic resonance angiogram, and eye exam.    Treatment    Most hemangiomas fade and shrink without treatment. If the hemangioma is large or causing other health problems, treatment may include the following:          -  Propranolol or other beta-blocker therapy.    -  Steroid therapy, before beta-blocker therapy is begun or when beta-blockers cannot be used.    - Pulsed dye laser surgery, for hemangiomas that have ulcers or have not gone away.     -  Surgery (excision) for hemangiomas that have ulcers, cause vision problems, or have not gone away.    -  Topical beta-blocker therapy for hemangiomas that are in one area of the skin.    -  Combined therapy, such as propranolol and steroid therapy or propranolol and topical beta-blocker therapy.\\r\\n\\t\\t\\t\\t\\t\\t\\t\\t\\t\\t\\t\\t\\t\\t\\t\\t\\t\\t\\t                \\r\\n\\t\\t\\t\\t\\t\\t\\t\\t\\t\\t\\t\\t\\t\\t\\t\\t\\t\\t\\t                \\r\\n\\t\\t\\t\\t\\t\\t\\t\\t\\t\\t\\t\\t\\t\\t\\t\\t\\t\\t\\t                    Congenital Hemangioma\\r\\n\\t\\t\\t\\t\\t\\t\\t\\t\\t\\t\\t\\t\\t\\t\\t\\t\\t\\t\\t                    Congenital hemangioma is a benign vascular tumor that begins forming before birth and is fully formed when the baby is born. They\\'re usually on the skin but can be in another organ.   There are three types of congenital hemangiomas:         -  Rapidly Involuting Congenital Hemangioma: These tumors go away on their own 12 to 15 months after birth. They can form ulcers, bleed, and cause temporary heart and blood clotting problems. The skin may look a little different even after the hemangiomas go away.    -  Partial Involuting Congenital Hemangioma: These tumors do not go away completely.    -  Non-Involuting Congenital Hemangioma: These tumors never go away on their own.          Diagnostic Tests    See the General Information section for a description of tests and procedures used to diagnose congenital hemangioma.    Treatment    Treatment of rapidly involuting congenital hemangioma and partial involuting congenital hemangioma may include the following:         -  Observation only.        Treatment of non-involuting congenital hemangioma may include the following:         -  Surgery to remove the tumor depending on where it is and whether it is causing symptoms.\\r\\n\\t\\t\\t\\t\\t\\t\\t\\t\\t\\t\\t\\t\\t\\t\\t\\t\\t\\t\\t                \\r\\n\\t\\t\\t\\t\\t\\t\\t\\t\\t\\t\\t\\t\\t\\t\\t\\t\\t\\t\\t                \\r\\n\\t\\t\\t\\t\\t\\t\\t\\t\\t\\t\\t\\t\\t\\t\\t\\t\\t\\t\\t                    Benign Vascular Tumors of the Liver\\r\\n\\t\\t\\t\\t\\t\\t\\t\\t\\t\\t\\t\\t\\t\\t\\t\\t\\t\\t\\t                    Benign vascular tumors of the liver may be focal (a single lesion in one area of the liver), multifocal (multiple lesions in one area of the liver), or diffuse (multiple lesions in more than one area of the liver).    The liver has many functions, including filtering blood and making proteins needed for blood clotting. Sometimes, blood that normally flows through the liver is blocked or slowed by the tumor. This sends blood directly to the heart without going through the liver and is called a liver shunt. This can cause heart failure and problems with blood clotting.    Focal Tumors    Focal tumors are usually rapidly involuting congenital hemangiomas or non-involuting congenital hemangiomas.    Diagnostic Tests    See the General Information section for a description of tests and procedures used to diagnose focal benign vascular tumors.    Treatment    Treatment of focal tumors of the liver depends on whether symptoms occur and may include the following:         -  Observation.    -  Drugs to manage symptoms, including heart failure and blood clotting problems.    -  Embolization of the liver to manage symptoms, including heart failure.         Multifocal and Diffuse Tumors     Multifocal and diffuse tumors of the liver are usually infantile hemangiomas. Diffuse tumors of the liver can cause serious effects, including problems with the thyroid gland and heart. The liver can enlarge, press on other organs, and cause more symptoms.    Diagnostic Tests    See the General Information section for a description of tests and procedures used to diagnose multifocal or diffuse benign vascular tumors.    Treatment    Treatment of multifocal and diffuse liver tumors may include the following:         - Observation for multifocal tumors of the liver that do not cause symptoms.    -  Beta-blocker therapy (propranolol).    -  Chemotherapy.    -  Steroid therapy.    - Total hepatectomy and liver transplant, when the tumors do not respond to drug therapy. This is only done when the tumors have spread widely in the liver and more than one organ has failed.        If a vascular tumor of the liver does not respond to standard treatments, a biopsy may be done to see if the tumor has become malignant.\\r\\n\\t\\t\\t\\t\\t\\t\\t\\t\\t\\t\\t\\t\\t\\t\\t\\t\\t\\t\\t                \\r\\n\\t\\t\\t\\t\\t\\t\\t\\t\\t\\t\\t\\t\\t\\t\\t\\t\\t\\t\\t                \\r\\n\\t\\t\\t\\t\\t\\t\\t\\t\\t\\t\\t\\t\\t\\t\\t\\t\\t\\t\\t                    Spindle Cell Hemangioma\\r\\n\\t\\t\\t\\t\\t\\t\\t\\t\\t\\t\\t\\t\\t\\t\\t\\t\\t\\t\\t                    Spindle cell hemangiomas contain cells called spindle cells. Under a microscope, spindle cells look long and slender.    Risk Factors    Anything that increases your risk of getting a disease is called a risk factor. Having a risk factor does not mean that you will get the disease; not having risk factors doesnt mean that you will not get the disease. Talk with your child\\'s doctor if you think your child may be at risk. Spindle cell hemangiomas are likely to occur in children with the following syndromes:         -  Maffucci syndrome, which affects cartilage and skin.    -  Klippel-Trenaunay syndrome, which affects blood vessels, soft tissues, and bones.         Signs    Spindle cell hemangiomas appear on or under the skin. They are painful red-brown or bluish lesions that usually appear on the arms or legs. They can begin as one lesion and develop into more lesions over years.     Diagnostic Tests    See the General Information section for a description of tests and procedures used to diagnose spindle cell hemangioma.    Treatment    There is no standard treatment for spindle cell hemangiomas. Treatment may include the following:         -  Surgery to remove the tumor.        Spindle cell hemangiomas may come back after surgery.\\r\\n\\t\\t\\t\\t\\t\\t\\t\\t\\t\\t\\t\\t\\t\\t\\t\\t\\t\\t\\t                \\r\\n\\t\\t\\t\\t\\t\\t\\t\\t\\t\\t\\t\\t\\t\\t\\t\\t\\t\\t\\t                \\r\\n\\t\\t\\t\\t\\t\\t\\t\\t\\t\\t\\t\\t\\t\\t\\t\\t\\t\\t\\t                    Epithelioid Hemangioma\\r\\n\\t\\t\\t\\t\\t\\t\\t\\t\\t\\t\\t\\t\\t\\t\\t\\t\\t\\t\\t                    Epithelioid hemangiomas usually form on or in the skin, especially the head, but can occur in other areas, such as bone.    Signs and Symptoms    Epithelioid hemangiomas are sometimes caused by injury. On the skin, they may appear as firm pink to red bumps and may be itchy. Epithelioid hemangioma of the bone may cause swelling, pain, and weakened bone in the affected area.     Diagnostic Tests    See the General Information section for a description of tests and procedures used to diagnose epithelioid hemangioma.    Treatment    There is no standard treatment for epithelioid hemangiomas. Treatment may include the following:         -  Surgery (curettage or resection).    -  Sclerotherapy.    -  Radiation therapy in rare cases.        Epithelioid hemangiomas often come back after treatment.\\r\\n\\t\\t\\t\\t\\t\\t\\t\\t\\t\\t\\t\\t\\t\\t\\t\\t\\t\\t\\t                \\r\\n\\t\\t\\t\\t\\t\\t\\t\\t\\t\\t\\t\\t\\t\\t\\t\\t\\t\\t\\t                \\r\\n\\t\\t\\t\\t\\t\\t\\t\\t\\t\\t\\t\\t\\t\\t\\t\\t\\t\\t\\t                    Pyogenic Granuloma\\r\\n\\t\\t\\t\\t\\t\\t\\t\\t\\t\\t\\t\\t\\t\\t\\t\\t\\t\\t\\t                    Pyogenic granuloma is also called lobular capillary hemangioma. It is most common in older children and young adults but may occur at any age.    The lesions are sometimes caused by injury or from the use of certain medicines, including birth control pills and retinoids. They may also form for no known reason inside capillaries (the smallest blood vessels) or other places on the body. Usually there is only one lesion, but sometimes multiple lesions occur in the same area or the lesions may spread to other areas of the body.    Signs    Pyogenic granulomas are raised, bright red lesions that may be small or large and smooth or bumpy. They grow quickly over weeks to months and may bleed a lot.    Diagnostic Tests    See the General Information section for a description of tests and procedures used to diagnose pyogenic granuloma.    Treatment    Some pyogenic granulomas go away without treatment. Other pyogenic granulomas need treatment that may include the following:         -  Surgery (excision or curettage) to remove the lesion.    -  Laser photocoagulation.        Pyogenic granulomas often come back after treatment.\\r\\n\\t\\t\\t\\t\\t\\t\\t\\t\\t\\t\\t\\t\\t\\t\\t\\t\\t\\t\\t                \\r\\n\\t\\t\\t\\t\\t\\t\\t\\t\\t\\t\\t\\t\\t\\t\\t\\t\\t\\t\\t                \\r\\n\\t\\t\\t\\t\\t\\t\\t\\t\\t\\t\\t\\t\\t\\t\\t\\t\\t\\t\\t                    Angiofibroma\\r\\n\\t\\t\\t\\t\\t\\t\\t\\t\\t\\t\\t\\t\\t\\t\\t\\t\\t\\t\\t                    Angiofibromas are rare. They are benign skin lesions that usually occur with a condition called tuberous sclerosis (an inherited disorder that causes skin lesions, seizures, and mental disabilities).     Signs    Angiofibromas appear as red bumps on the face.    Diagnostic Tests    See the General Information section for a description of tests and procedures used to diagnose angiofibroma.    Treatment    Treatment of angiofibromas may include the following:         -  Surgery (excision) to remove the tumor.    -  Laser therapy.    -  Targeted therapy (sirolimus).\\r\\n\\t\\t\\t\\t\\t\\t\\t\\t\\t\\t\\t\\t\\t\\t\\t\\t\\t\\t\\t                \\r\\n\\t\\t\\t\\t\\t\\t\\t\\t\\t\\t\\t\\t\\t\\t\\t\\t\\t\\t\\t                \\r\\n\\t\\t\\t\\t\\t\\t\\t\\t\\t\\t\\t\\t\\t\\t\\t\\t\\t\\t\\t                    Juvenile Nasopharyngeal Angiofibroma\\r\\n\\t\\t\\t\\t\\t\\t\\t\\t\\t\\t\\t\\t\\t\\t\\t\\t\\t\\t\\t                    Juvenile nasopharyngeal angiofibromas are benign tumors but they can invade nearby tissue. They begin in the nasal cavity and may spread to the nasopharynx, the paranasal sinuses, the bone around the eyes, and sometimes to the brain.     Diagnostic Tests    See the General Information section for a description of tests and procedures used to diagnose juvenile nasopharyngeal angiofibroma.    Treatment    Treatment of juvenile nasopharyngeal angiofibromas may include the following:         -  Surgery (excision) to remove the tumor.    -  Radiation therapy.    -  Chemotherapy.    -  Immunotherapy (interferon).    -  Targeted therapy (sirolimus).\\r\\n\\t\\t\\t\\t\\t\\t\\t\\t\\t\\t\\t\\t\\t\\t\\t\\t\\t\\t\\t                \\r\\n\\t\\t\\t\\t\\t\\t\\t\\t\\t\\t\\t\\t\\t\\t\\t\\t\\t\\t\\t            \\r\\n\\t\\t\\t\\t\\t\\t\\t\\t\\t\\t\\t\\t\\t\\t\\t\\t\\t\\t\\t        \\r\\n\\t\\t\\t\\t\\t\\t\\t\\t\\t\\t\\t\\t\\t\\t\\t\\t\\t\\t\\t        \\r\\n\\t\\t\\t\\t\\t\\t\\t\\t\\t\\t\\t\\t\\t\\t\\t\\t\\t\\t\\t            Intermediate Tumors that Spread Locally\\r\\n\\t\\t\\t\\t\\t\\t\\t\\t\\t\\t\\t\\t\\t\\t\\t\\t\\t\\t\\t            \\r\\n\\t\\t\\t\\t\\t\\t\\t\\t\\t\\t\\t\\t\\t\\t\\t\\t\\t\\t\\t                \\r\\n\\t\\t\\t\\t\\t\\t\\t\\t\\t\\t\\t\\t\\t\\t\\t\\t\\t\\t\\t                    Kaposiform Hemangioendothelioma and Tufted Angioma\\r\\n\\t\\t\\t\\t\\t\\t\\t\\t\\t\\t\\t\\t\\t\\t\\t\\t\\t\\t\\t                    Kaposiform hemangioendotheliomas and tufted angiomas are blood vessel tumors that occur in infants or during early childhood. These tumors can cause Kasabach-Merritt phenomenon, a condition in which the blood is not able to clot and serious bleeding may occur. In Kasabach-Merritt phenomenon the tumor traps and destroys platelets (blood-clotting cells). Then there aren\\'t enough platelets in the blood when needed to stop bleeding. This type of vascular tumor is not related to Kaposi sarcoma.    Signs and Symptoms    Kaposiform hemangioendotheliomas and tufted angiomas usually occur on the skin of the arms and legs, but may also form in deeper tissues, such as muscle or bone. Signs and symptoms may include the following:         - Firm, painful areas of skin that look bruised.    - Purple or brownish-red areas of skin.    - Easy bruising.    -  Bleeding more than the usual amount from mucous membranes, wounds, and other tissues.    -  Anemia (weakness, feeling tired, or looking pale).         Diagnostic Tests    See the General Information section for a description of tests and procedures used to diagnose kaposiform hemangioendothelioma.   If a physical exam and MRI clearly show the tumor is a kaposiform hemangioendothelioma or a tufted angioma, a biopsy may not be needed. A biopsy is not always done because serious bleeding can occur.    Treatment    Treatment of kaposiform hemangioendotheliomas and tufted angiomas depends on the child\\'s symptoms. Infection, delay in treatment, and surgery can cause bleeding that is life-threatening. Kaposiform hemangioendotheliomas and tufted angiomas are best treated by a vascular anomaly specialist.   Treatment and supportive care to manage bleeding may include the following:         -  Steroid therapy which may be followed by chemotherapy.    -  Non-steroidal anti-inflammatory drugs (NSAID), such as aspirin.    -  Immunotherapy (interferon).    -  Antifibrinolytic therapy to improve blood clotting.    -  Chemotherapy with one or more anticancer drugs.    -  Beta-blocker therapy (propranolol).    -  Surgery (excision) to remove the tumor, with or without embolization.    -  Targeted therapy (sirolimus).    - A clinical trial of targeted therapy (sirolimus) and steroid therapy.        Even with treatment, these tumors do not fully go away and can come back. Long-term effects include chronic pain, heart failure, bone problems, and lymphedema (the build up of lymph fluid in tissues).\\r\\n\\t\\t\\t\\t\\t\\t\\t\\t\\t\\t\\t\\t\\t\\t\\t\\t\\t\\t\\t                \\r\\n\\t\\t\\t\\t\\t\\t\\t\\t\\t\\t\\t\\t\\t\\t\\t\\t\\t\\t\\t            \\r\\n\\t\\t\\t\\t\\t\\t\\t\\t\\t\\t\\t\\t\\t\\t\\t\\t\\t\\t\\t        \\r\\n\\t\\t\\t\\t\\t\\t\\t\\t\\t\\t\\t\\t\\t\\t\\t\\t\\t\\t\\t        \\r\\n\\t\\t\\t\\t\\t\\t\\t\\t\\t\\t\\t\\t\\t\\t\\t\\t\\t\\t\\t            Intermediate Tumors that Rarely Spread\\r\\n\\t\\t\\t\\t\\t\\t\\t\\t\\t\\t\\t\\t\\t\\t\\t\\t\\t\\t\\t            \\r\\n\\t\\t\\t\\t\\t\\t\\t\\t\\t\\t\\t\\t\\t\\t\\t\\t\\t\\t\\t                \\r\\n\\t\\t\\t\\t\\t\\t\\t\\t\\t\\t\\t\\t\\t\\t\\t\\t\\t\\t\\t                    Retiform Hemangioendothelioma\\r\\n\\t\\t\\t\\t\\t\\t\\t\\t\\t\\t\\t\\t\\t\\t\\t\\t\\t\\t\\t                    Retiform hemangioendotheliomas are slow growing, flat tumors that occur in young adults and sometimes children. These tumors usually occur on or under the skin of the arms, legs, and trunk. These tumors often come back after treatment, but they usually do not spread to other parts of the body.    Diagnostic Tests    See the General Information section for a description of tests and procedures used to diagnose retiform hemangioendothelioma.    Treatment    Treatment of retiform hemangioendotheliomas may include the following:         -  Surgery (excision) to remove the tumor. Follow up will include monitoring to see if the tumor comes back.    -  Radiation therapy and chemotherapy when surgery cannot be done or when the tumor has come back.\\r\\n\\t\\t\\t\\t\\t\\t\\t\\t\\t\\t\\t\\t\\t\\t\\t\\t\\t\\t\\t                \\r\\n\\t\\t\\t\\t\\t\\t\\t\\t\\t\\t\\t\\t\\t\\t\\t\\t\\t\\t\\t                \\r\\n\\t\\t\\t\\t\\t\\t\\t\\t\\t\\t\\t\\t\\t\\t\\t\\t\\t\\t\\t                    Papillary Intralymphatic Angioendothelioma\\r\\n\\t\\t\\t\\t\\t\\t\\t\\t\\t\\t\\t\\t\\t\\t\\t\\t\\t\\t\\t                    Papillary intralymphatic angioendotheliomas are also called Dabska tumors. These tumors form in or under the skin anywhere on the body. The tumors contain channels that look like lymph vessels. Lymph nodes are sometimes affected.    Signs    Papillary intralymphatic angioendotheliomas may appear as firm, raised, purplish bumps, which may be small or large. These tumors grow slowly over time.    Diagnostic Tests    See the General Information section for a description of tests and procedures used to diagnose papillary intralymphatic angioendothelioma.    Treatment    Treatment of papillary intralymphatic angioendotheliomas may include the following:         -  Surgery (excision) to remove the tumor.\\r\\n\\t\\t\\t\\t\\t\\t\\t\\t\\t\\t\\t\\t\\t\\t\\t\\t\\t\\t\\t                \\r\\n\\t\\t\\t\\t\\t\\t\\t\\t\\t\\t\\t\\t\\t\\t\\t\\t\\t\\t\\t                \\r\\n\\t\\t\\t\\t\\t\\t\\t\\t\\t\\t\\t\\t\\t\\t\\t\\t\\t\\t\\t                    Composite Hemangioendothelioma\\r\\n\\t\\t\\t\\t\\t\\t\\t\\t\\t\\t\\t\\t\\t\\t\\t\\t\\t\\t\\t                    Composite hemangioendotheliomas have features of both benign and malignant vascular tumors. These tumors usually occur on or under the skin on the arms or legs. They may also occur on the head, neck, or chest. Composite hemangioendotheliomas are not likely to metastasize (spread) but they may come back in the same place. When the tumors metastasize, they usually spread to nearby lymph nodes.     Diagnostic Tests    See the General Information section for a description of tests and procedures used to diagnose composite hemangioendothelioma and find out whether the tumor has spread.     Treatment     Treatment of composite hemangioendotheliomas may include the following:         -  Surgery to remove the tumor.    -  Radiation therapy and chemotherapy for tumors that have spread.\\r\\n\\t\\t\\t\\t\\t\\t\\t\\t\\t\\t\\t\\t\\t\\t\\t\\t\\t\\t\\t                \\r\\n\\t\\t\\t\\t\\t\\t\\t\\t\\t\\t\\t\\t\\t\\t\\t\\t\\t\\t\\t                \\r\\n\\t\\t\\t\\t\\t\\t\\t\\t\\t\\t\\t\\t\\t\\t\\t\\t\\t\\t\\t                    Kaposi Sarcoma\\r\\n\\t\\t\\t\\t\\t\\t\\t\\t\\t\\t\\t\\t\\t\\t\\t\\t\\t\\t\\t                    Kaposi sarcoma is a cancer that causes lesions to grow in the skin; the mucous membranes lining the mouth, nose, and throat; lymph nodes; or other organs. It is caused by the Kaposi sarcoma herpes virus (KSHV). In the United States, it usually occurs in people who have a weak immune system caused by AIDS or by drugs used in organ transplants. It is very rare in children and can be caused by HIV infection and rare immune system disorders.    Signs     Signs in children may include the following:         - Lesions in the skin, mouth, or throat. Skin lesions are red, purple, or brown and change from flat, to raised, to scaly areas called plaques, to nodules.    - Swollen lymph nodes.         Diagnostic Tests    See the General Information section for a description of tests and procedures used to diagnose Kaposi sarcoma.    Treatment    Treatment of Kaposi sarcoma may include the following:         -  Chemotherapy.        See the PDQ summary on Kaposi Sarcoma Treatment for information about Kaposi sarcoma in adults.\\r\\n\\t\\t\\t\\t\\t\\t\\t\\t\\t\\t\\t\\t\\t\\t\\t\\t\\t\\t\\t                \\r\\n\\t\\t\\t\\t\\t\\t\\t\\t\\t\\t\\t\\t\\t\\t\\t\\t\\t\\t\\t            \\r\\n\\t\\t\\t\\t\\t\\t\\t\\t\\t\\t\\t\\t\\t\\t\\t\\t\\t\\t\\t        \\r\\n\\t\\t\\t\\t\\t\\t\\t\\t\\t\\t\\t\\t\\t\\t\\t\\t\\t\\t\\t        \\r\\n\\t\\t\\t\\t\\t\\t\\t\\t\\t\\t\\t\\t\\t\\t\\t\\t\\t\\t\\t            Malignant Tumors\\r\\n\\t\\t\\t\\t\\t\\t\\t\\t\\t\\t\\t\\t\\t\\t\\t\\t\\t\\t\\t            \\r\\n\\t\\t\\t\\t\\t\\t\\t\\t\\t\\t\\t\\t\\t\\t\\t\\t\\t\\t\\t                \\r\\n\\t\\t\\t\\t\\t\\t\\t\\t\\t\\t\\t\\t\\t\\t\\t\\t\\t\\t\\t                    Epithelioid Hemangioendothelioma\\r\\n\\t\\t\\t\\t\\t\\t\\t\\t\\t\\t\\t\\t\\t\\t\\t\\t\\t\\t\\t                    Epithelioid hemangioendotheliomas can occur in children, but are most common in adults between 30 and 50 years of age. They usually occur in the liver, lung, or in bone. They may be either fast growing or slow growing. In about a third of cases, the tumor spreads to other parts of the body very quickly.     Signs and Symptoms     Signs and symptoms depend on where the tumor is:          - On the skin, the tumors can be raised and rounded or flat, red-brown patches that feel warm.     - In the lung, there may be no early symptoms. Signs and symptoms that occur may include:               -  Chest pain.       - Spitting up blood.      -  Anemia (weakness, feeling tired, or looking pale).      - Trouble breathing (from scarred lung tissue).              - In bone, the tumors can cause breaks.         Diagnostic Tests    Epithelioid hemangioendotheliomas in the liver are found with CT scans and MRI scans. See the General Information section for a description of these tests and procedures used to diagnose epithelioid hemangioendothelioma and find out whether the tumor has spread. X-rays may also be done.    Treatment    Treatment of slow-growing epithelioid hemangioendotheliomas includes the following:         -  Observation.        Treatment of fast-growing epithelioid hemangioendotheliomas may include the following:         -  Surgery to remove the tumor when possible.    -  Immunotherapy (interferon) and targeted therapy (thalidomide, sorafenib, pazopanib, sirolimus) for tumors that are likely to spread.    -  Chemotherapy.    - Total hepatectomy and liver transplant when the tumor is in the liver.\\r\\n\\t\\t\\t\\t\\t\\t\\t\\t\\t\\t\\t\\t\\t\\t\\t\\t\\t\\t\\t                \\r\\n\\t\\t\\t\\t\\t\\t\\t\\t\\t\\t\\t\\t\\t\\t\\t\\t\\t\\t\\t                \\r\\n\\t\\t\\t\\t\\t\\t\\t\\t\\t\\t\\t\\t\\t\\t\\t\\t\\t\\t\\t                    Angiosarcoma of the Soft Tissue\\r\\n\\t\\t\\t\\t\\t\\t\\t\\t\\t\\t\\t\\t\\t\\t\\t\\t\\t\\t\\t                    Angiosarcomas are fast-growing tumors that form in blood vessels or lymph vessels in any part of the body, usually in soft tissue. Most angiosarcomas are in or near the skin. Those in deeper soft tissue can form in the liver, spleen, and lung.   These tumors are very rare in children. Children sometimes have more than one tumor in the skin and/or liver.    Risk Factors    Anything that increases your risk of getting a disease is called a risk factor. Having a risk factor does not mean that you will get the disease; not having risk factors doesnt mean that you will not get the disease. Talk with your child\\'s doctor if you think your child may be at risk. Risk factors for angiosarcomas include the following:         - Being exposed to radiation.    -  Chronic (long-term) lymphedema, a condition in which extra lymph fluid builds up in tissues and causes swelling.     - Having a benign vascular tumor. A benign tumor, such as a hemangioma, may become an angiosarcoma but this rare.         Signs    Signs of angiosarcoma depend on where the tumor is and may include the following:         - Red patches on the skin that bleed easily.    - Purple tumors.         Diagnostic Tests    See the General Information section for a description of tests and procedures used to diagnose angiosarcoma and find out whether the tumor has spread.     Treatment    Treatment of angiosarcoma may include the following:         -  Surgery to completely remove the tumor.    - A combination of surgery, chemotherapy, and radiation therapy for angiosarcomas that have spread.    -  Targeted therapy (bevacizumab) and chemotherapy for angiosarcomas that began as infantile hemangiomas.    - A clinical trial of targeted therapy, radiation therapy, and surgery with or without chemotherapy.'"
      ]
     },
     "execution_count": 17,
     "metadata": {},
     "output_type": "execute_result"
    }
   ],
   "source": [
    "sorted_data['answer'].iloc[-1]"
   ]
  },
  {
   "cell_type": "code",
   "execution_count": 18,
   "id": "058e59c3",
   "metadata": {},
   "outputs": [
    {
     "data": {
      "text/plain": [
       "21073263"
      ]
     },
     "execution_count": 18,
     "metadata": {},
     "output_type": "execute_result"
    }
   ],
   "source": [
    "sum(sorted_data['answer_length'])"
   ]
  },
  {
   "cell_type": "code",
   "execution_count": 21,
   "id": "88cc37d9",
   "metadata": {},
   "outputs": [
    {
     "data": {
      "text/plain": [
       "q_type\n",
       "general_info        6458\n",
       "treatment           5022\n",
       "information         3822\n",
       "symptoms            3652\n",
       "inheritance         1382\n",
       "prevention          1364\n",
       "frequency           1120\n",
       "genetic changes     1087\n",
       "causes               660\n",
       "exams and tests      611\n",
       "research             369\n",
       "outlook              354\n",
       "susceptibility       245\n",
       "considerations       133\n",
       "stages                76\n",
       "complications         45\n",
       "diagnosis             45\n",
       "risk_factors           6\n",
       "emergency              4\n",
       "support                4\n",
       "support groups         1\n",
       "immediate_action       1\n",
       "emergency_info         1\n",
       "emergency_care         1\n",
       "aftercare              1\n",
       "procedure              1\n",
       "warning                1\n",
       "Name: count, dtype: int64"
      ]
     },
     "execution_count": 21,
     "metadata": {},
     "output_type": "execute_result"
    }
   ],
   "source": [
    "data['q_type'].value_counts()"
   ]
  },
  {
   "cell_type": "code",
   "execution_count": 20,
   "id": "adc6f145",
   "metadata": {},
   "outputs": [
    {
     "data": {
      "image/png": "[encoded data removed]",
      "text/plain": [
       "<Figure size 1000x600 with 1 Axes>"
      ]
     },
     "metadata": {},
     "output_type": "display_data"
    }
   ],
   "source": [
    "# Group data by 'q_type' and calculate mean answer length\n",
    "grouped = data.groupby(\"q_type\")[\"answer_length\"].count()\n",
    "\n",
    "# Plotting\n",
    "plt.figure(figsize=(10, 6))\n",
    "grouped.sort_values().plot(kind='barh', color='skyblue')\n",
    "plt.title(\"Average Answer Length by Question Type\", fontsize=14)\n",
    "plt.xlabel(\"Average Answer Length\", fontsize=12)\n",
    "plt.ylabel(\"Question Type\", fontsize=12)\n",
    "plt.grid(axis='x', linestyle='--', alpha=0.7)\n",
    "plt.tight_layout()\n",
    "\n",
    "# Show the plot\n",
    "plt.show()"
   ]
  },
  {
   "cell_type": "code",
   "execution_count": null,
   "id": "40e402ae",
   "metadata": {},
   "outputs": [],
   "source": []
  }
 ],
 "metadata": {
  "kaggle": {
   "accelerator": "none",
   "dataSources": [
    {
     "datasetId": 4054084,
     "sourceId": 7045374,
     "sourceType": "datasetVersion"
    },
    {
     "datasetId": 6374118,
     "sourceId": 10298203,
     "sourceType": "datasetVersion"
    },
    {
     "datasetId": 6377019,
     "sourceId": 10302511,
     "sourceType": "datasetVersion"
    },
    {
     "datasetId": 6379642,
     "sourceId": 10306024,
     "sourceType": "datasetVersion"
    }
   ],
   "dockerImageVersionId": 30822,
   "isGpuEnabled": false,
   "isInternetEnabled": true,
   "language": "python",
   "sourceType": "notebook"
  },
  "kernelspec": {
   "display_name": "base",
   "language": "python",
   "name": "python3"
  },
  "language_info": {
   "codemirror_mode": {
    "name": "ipython",
    "version": 3
   },
   "file_extension": ".py",
   "mimetype": "text/x-python",
   "name": "python",
   "nbconvert_exporter": "python",
   "pygments_lexer": "ipython3",
   "version": "3.12.4"
  },
  "papermill": {
   "default_parameters": {},
   "duration": 5.858539,
   "end_time": "2024-12-26T18:31:10.807746",
   "environment_variables": {},
   "exception": null,
   "input_path": "__notebook__.ipynb",
   "output_path": "__notebook__.ipynb",
   "parameters": {},
   "start_time": "2024-12-26T18:31:04.949207",
   "version": "2.6.0"
  }
 },
 "nbformat": 4,
 "nbformat_minor": 5
}
